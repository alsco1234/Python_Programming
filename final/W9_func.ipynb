{
 "cells": [
  {
   "cell_type": "code",
   "execution_count": 2,
   "metadata": {},
   "outputs": [
    {
     "name": "stdout",
     "output_type": "stream",
     "text": [
      "3\n",
      "a\n",
      "['c', 'b', 'a']\n",
      "I want 3 apples\n",
      "4605578864\n",
      "5\n",
      "['a', 'p', 'p', 'l', 'e']\n",
      "66\n",
      "아이템의 개수 :  9  아이템의 합계 :  491\n",
      "거꾸로 :  [91, 93, 95, 97, 99, 7, 5, 3, 1]\n"
     ]
    }
   ],
   "source": [
    "\"\"\"\n",
    "9-1-1. 내장함수\n",
    "\"\"\"\n",
    "\n",
    "# abs : 절댓값 반환\n",
    "print(abs(-3))\n",
    "\n",
    "# chr : 유니코드 값 입력받아 그에 해당하는 문자 반환\n",
    "print(chr(97))\n",
    "\n",
    "# reversed : 요소의 순서를 뒤집어서 반환\n",
    "t = ['a', 'b', 'c']\n",
    "print(list(reversed(t)))\n",
    "\n",
    "# format : 주어진 서식에 맞춰 값을 문자열로 변환\n",
    "print(\"I want {0} apples\".format(3))\n",
    "\n",
    "# id : 객체의 메모리 주소 값을 반환\n",
    "s = 'apple'\n",
    "print(id(s))\n",
    "\n",
    "# len : 문자열의 길이 반환\n",
    "print(len(\"Hello\"))\n",
    "\n",
    "# list : 리스트 생성하여 반환\n",
    "s = 'apple'\n",
    "print(list(s))\n",
    "\n",
    "# ord : 유니코드 번호 반환\n",
    "print(ord('B'))\n",
    "\n",
    "# 연습문제\n",
    "n = [ 1, 3, 5, 7, 99, 97, 95, 93, 91]\n",
    "print(\"아이템의 개수 : \", len(n), \" 아이템의 합계 : \", sum(n))\n",
    "print(\"거꾸로 : \", list(reversed(n))) # 항상 List로 type casting\n"
   ]
  },
  {
   "cell_type": "code",
   "execution_count": 5,
   "metadata": {},
   "outputs": [
    {
     "name": "stdout",
     "output_type": "stream",
     "text": [
      "24\n",
      "3\n",
      "3\n",
      "18\n"
     ]
    }
   ],
   "source": [
    "\"\"\"\n",
    "9-1-2. math module\n",
    "\"\"\"\n",
    "import math\n",
    "\n",
    "print(math.factorial(4))\n",
    "\n",
    "# 최대공역수\n",
    "print(math.gcd(6,3))\n",
    "\n",
    "# 최소공배수\n",
    "print(math.gcd(6,3))\n",
    "\n",
    "# 모든곱\n",
    "a = [6,3]\n",
    "print(math.prod(a))\n",
    "\n"
   ]
  },
  {
   "cell_type": "code",
   "execution_count": null,
   "metadata": {},
   "outputs": [],
   "source": [
    "\"\"\"\n",
    "9-1-2. math module\n",
    "\"\"\""
   ]
  }
 ],
 "metadata": {
  "kernelspec": {
   "display_name": "Python 3",
   "language": "python",
   "name": "python3"
  },
  "language_info": {
   "codemirror_mode": {
    "name": "ipython",
    "version": 3
   },
   "file_extension": ".py",
   "mimetype": "text/x-python",
   "name": "python",
   "nbconvert_exporter": "python",
   "pygments_lexer": "ipython3",
   "version": "3.10.1"
  },
  "orig_nbformat": 4
 },
 "nbformat": 4,
 "nbformat_minor": 2
}
